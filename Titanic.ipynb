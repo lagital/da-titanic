{
 "cells": [
  {
   "cell_type": "code",
   "execution_count": 756,
   "id": "262eb329-c366-4a6a-9dec-f4feddf37476",
   "metadata": {
    "tags": []
   },
   "outputs": [],
   "source": [
    "from urllib.request import urlopen as ureq\n",
    "from bs4 import BeautifulSoup as soup\n",
    "import pandas as pd\n",
    "import matplotlib.pyplot as plt\n",
    "import seaborn as sns\n",
    "\n",
    "palette = \"viridis\"\n",
    "\n",
    "wiki_crew_url = \"https://en.wikipedia.org/wiki/Crew_of_the_Titanic\"\n",
    "wiki_pass_url = \"https://en.wikipedia.org/wiki/Passengers_of_the_Titanic\""
   ]
  },
  {
   "cell_type": "markdown",
   "id": "663bd4c8-23c2-4ae9-b02b-4941dd3a3b5c",
   "metadata": {
    "tags": []
   },
   "source": [
    "# Wikipedia Tables Import (pandas)"
   ]
  },
  {
   "cell_type": "code",
   "execution_count": 738,
   "id": "7b6c8929-f698-442b-bd49-91470698728e",
   "metadata": {
    "tags": []
   },
   "outputs": [
    {
     "name": "stdout",
     "output_type": "stream",
     "text": [
      "                                              Name  Age  \\\n",
      "0                Smith, Commander Edward John, RNR   62   \n",
      "1              Wilde, Lieutenant Henry Tingle, RNR   39   \n",
      "2        Murdoch, Lieutenant William McMaster, RNR   39   \n",
      "3  Lightoller, Sub-Lieutenant Charles Herbert, RNR   38   \n",
      "4                         Pitman, Mr. Herbert John   34   \n",
      "\n",
      "                                         Hometown      Boarded  \\\n",
      "0  Hanley, Stoke-on-Trent, Staffordshire, England  Southampton   \n",
      "1                     Walton, Lancashire, England  Southampton   \n",
      "2        Dalbeattie, Kirkcudbrightshire, Scotland      Belfast   \n",
      "3                      Netley, Hampshire, England      Belfast   \n",
      "4                  Castle Cary, Somerset, England      Belfast   \n",
      "\n",
      "         Position Lifeboat  Body  \n",
      "0         Captain      NaN   NaN  \n",
      "1   Chief Officer      NaN   NaN  \n",
      "2   First Officer      NaN   NaN  \n",
      "3  Second Officer        B   NaN  \n",
      "4   Third Officer        5   NaN  \n",
      "                                             Name Age  \\\n",
      "0                    Allen, Miss Elizabeth Walton  29   \n",
      "1                   Allison, Mr. Hudson Creighton  30   \n",
      "2             and chauffeur, Mr. George Swane[71]  19   \n",
      "3  and cook, Miss Amelia Mary \"Mildred\" Brown[71]  18   \n",
      "4        Allison, Mrs. Bessie Waldo (née Daniels)  25   \n",
      "\n",
      "                   Hometown      Boarded               Destination Lifeboat  \\\n",
      "0    St Louis, Missouri, US  Southampton                  St Louis      NaN   \n",
      "1  Montreal, Quebec, Canada  Southampton  Montreal, Quebec, Canada      NaN   \n",
      "2                       NaN  Southampton  Montreal, Quebec, Canada      NaN   \n",
      "3       London, England, UK  Southampton  Montreal, Quebec, Canada       11   \n",
      "4  Montreal, Quebec, Canada  Southampton  Montreal, Quebec, Canada      NaN   \n",
      "\n",
      "    Body  \n",
      "0    NaN  \n",
      "1  135MB  \n",
      "2  294MB  \n",
      "3    NaN  \n",
      "4    NaN  \n"
     ]
    }
   ],
   "source": [
    "pd_crew_tables = pd.read_html(wiki_crew_url)\n",
    "pd_pass_tables = pd.read_html(wiki_pass_url)\n",
    "print(pd_crew_tables[0].head())\n",
    "print(pd_pass_tables[1].head())"
   ]
  },
  {
   "cell_type": "markdown",
   "id": "7d1bdb8c-0452-4fda-ae3c-f8c711317e5b",
   "metadata": {},
   "source": [
    "# Wikipedia Tables Import (soup)\n",
    "\n",
    "We have to gather html sources because \"survived\" indicator is a row color in wikipedia articles."
   ]
  },
  {
   "cell_type": "code",
   "execution_count": 739,
   "id": "f2b9d682-c14c-46c5-aa43-a9a41cd3df21",
   "metadata": {},
   "outputs": [],
   "source": [
    "client = ureq(wiki_crew_url)\n",
    "crew_html = soup(client.read(), \"html.parser\")\n",
    "client.close()\n",
    "client = ureq(wiki_pass_url)\n",
    "pass_html = soup(client.read(), \"html.parser\")\n",
    "client.close()\n",
    "\n",
    "html_crew_tables = crew_html.findAll('table', attrs={'class':'wikitable'})\n",
    "html_pass_tables = pass_html.findAll('table', attrs={'class':'wikitable'})"
   ]
  },
  {
   "cell_type": "code",
   "execution_count": 740,
   "id": "cc60369c-b753-44c3-b497-b3efc65c6dde",
   "metadata": {},
   "outputs": [],
   "source": [
    "crew_groups = {\n",
    "    \"Officers\": [html_crew_tables[0], pd_crew_tables[0]],\n",
    "    \"Deck\": [html_crew_tables[1], pd_crew_tables[1]],\n",
    "    \"Engineering\": [html_crew_tables[2], pd_crew_tables[2]],\n",
    "    \"Victualling\": [html_crew_tables[3], pd_crew_tables[3]],\n",
    "    \"Restaurant\": [html_crew_tables[4], pd_crew_tables[4]],\n",
    "    \"Postal Clerks\": [html_crew_tables[5], pd_crew_tables[5]],\n",
    "    \"Guarantee\": [html_crew_tables[6], pd_crew_tables[6]],\n",
    "    \"Orchestra\": [html_crew_tables[7], pd_crew_tables[7]]\n",
    "}\n",
    "\n",
    "pass_groups = {\n",
    "    \"First Class\": [html_pass_tables[0], pd_pass_tables[1]],\n",
    "    \"Second Class\": [html_pass_tables[1], pd_pass_tables[2]],\n",
    "    \"Third Class\": [html_pass_tables[2], pd_pass_tables[3]]\n",
    "}"
   ]
  },
  {
   "cell_type": "code",
   "execution_count": 741,
   "id": "7dbe75cc-2e78-4008-85c5-8682a234c6a7",
   "metadata": {},
   "outputs": [
    {
     "name": "stdout",
     "output_type": "stream",
     "text": [
      "                                              Name Survived\n",
      "0                Smith, Commander Edward John, RNR    False\n",
      "1              Wilde, Lieutenant Henry Tingle, RNR    False\n",
      "2        Murdoch, Lieutenant William McMaster, RNR    False\n",
      "3  Lightoller, Sub-Lieutenant Charles Herbert, RNR     True\n",
      "4                         Pitman, Mr. Herbert John     True\n",
      "                                             Name Survived\n",
      "0                    Allen, Miss Elizabeth Walton     True\n",
      "1                   Allison, Mr. Hudson Creighton    False\n",
      "2             and chauffeur, Mr. George Swane[71]    False\n",
      "3  and cook, Miss Amelia Mary \"Mildred\" Brown[71]     True\n",
      "4        Allison, Mrs. Bessie Waldo (née Daniels)    False\n"
     ]
    }
   ],
   "source": [
    "df_crew_survived = pd.DataFrame(columns=[\"Name\", \"Survived\"])\n",
    "df_pass_survived = pd.DataFrame(columns=[\"Name\", \"Survived\"])\n",
    "\n",
    "for group, tables in crew_groups.items():\n",
    "    table_body = tables[0].find('tbody')\n",
    "    rows = table_body.find_all('tr')[1:] # drop table header\n",
    "    for row in rows:\n",
    "        df_crew_survived.loc[len(df_crew_survived)] = [row.find_all('td')[0].text, row.has_attr(\"style\")]\n",
    "\n",
    "for group, tables in pass_groups.items():\n",
    "    table_body = tables[0].find('tbody')\n",
    "    rows = table_body.find_all('tr')[1:] # drop table header\n",
    "    for row in rows:\n",
    "        df_pass_survived.loc[len(df_pass_survived)] = [row.find_all('td')[0].text, row.has_attr(\"style\")]\n",
    "\n",
    "print(df_crew_survived.head())\n",
    "print(df_pass_survived.head())"
   ]
  },
  {
   "cell_type": "markdown",
   "id": "100f2704-247b-43d4-8a10-4d4b8aac44c3",
   "metadata": {},
   "source": [
    "# Joining Data, Extraction of Additional Features"
   ]
  },
  {
   "cell_type": "code",
   "execution_count": 742,
   "id": "ff82f668-8ad9-4bc5-9eba-759093f35083",
   "metadata": {},
   "outputs": [],
   "source": [
    "male_salutations = [\"Mr.\", \"Master\", \"Father\", \"Dr.\", \"Mr \", \"Mr,\", \"Mr,\", \"Colonel\", \"Major\", \"Captain\", \"Sir \", \"Don \", \"Reverend\"]\n",
    "female_salutations = [\"Ms.\", \"Mrs\", \"Miss\", \"Lady\", \"Countess\", \"Doña\"]\n",
    "\n",
    "def predict_sex(group, name):\n",
    "    if any(ms in name for ms in male_salutations):\n",
    "        return \"M\"\n",
    "    elif any(fs in name for fs in female_salutations):\n",
    "        return \"F\"\n",
    "    elif group == \"Officers\" or group == \"Orchestra\":\n",
    "        return \"M\"\n",
    "    else:\n",
    "        return \"U\"\n",
    "\n",
    "def complete_df_item(item, group):\n",
    "    item[\"Sex\"] = predict_sex(group, item[\"Name\"])\n",
    "    item[\"Group\"] = group\n",
    "    return item"
   ]
  },
  {
   "cell_type": "code",
   "execution_count": 743,
   "id": "41583738-617d-4485-a22c-e7ec38da6798",
   "metadata": {},
   "outputs": [
    {
     "name": "stdout",
     "output_type": "stream",
     "text": [
      "                                              Name Age  \\\n",
      "0                Smith, Commander Edward John, RNR  62   \n",
      "1              Wilde, Lieutenant Henry Tingle, RNR  39   \n",
      "2        Murdoch, Lieutenant William McMaster, RNR  39   \n",
      "3  Lightoller, Sub-Lieutenant Charles Herbert, RNR  38   \n",
      "4                         Pitman, Mr. Herbert John  34   \n",
      "\n",
      "                                         Hometown      Boarded  \\\n",
      "0  Hanley, Stoke-on-Trent, Staffordshire, England  Southampton   \n",
      "1                     Walton, Lancashire, England  Southampton   \n",
      "2        Dalbeattie, Kirkcudbrightshire, Scotland      Belfast   \n",
      "3                      Netley, Hampshire, England      Belfast   \n",
      "4                  Castle Cary, Somerset, England      Belfast   \n",
      "\n",
      "         Position Lifeboat Body Sex     Group Survived  \n",
      "0         Captain      NaN  NaN   M  Officers    False  \n",
      "1   Chief Officer      NaN  NaN   M  Officers    False  \n",
      "2   First Officer      NaN  NaN   M  Officers    False  \n",
      "3  Second Officer        B  NaN   M  Officers     True  \n",
      "4   Third Officer        5  NaN   M  Officers     True  \n",
      "                                             Name Age  \\\n",
      "0                    Allen, Miss Elizabeth Walton  29   \n",
      "1                   Allison, Mr. Hudson Creighton  30   \n",
      "2             and chauffeur, Mr. George Swane[71]  19   \n",
      "3  and cook, Miss Amelia Mary \"Mildred\" Brown[71]  18   \n",
      "4        Allison, Mrs. Bessie Waldo (née Daniels)  25   \n",
      "\n",
      "                   Hometown      Boarded               Destination Lifeboat  \\\n",
      "0    St Louis, Missouri, US  Southampton                  St Louis      NaN   \n",
      "1  Montreal, Quebec, Canada  Southampton  Montreal, Quebec, Canada      NaN   \n",
      "2                       NaN  Southampton  Montreal, Quebec, Canada      NaN   \n",
      "3       London, England, UK  Southampton  Montreal, Quebec, Canada       11   \n",
      "4  Montreal, Quebec, Canada  Southampton  Montreal, Quebec, Canada      NaN   \n",
      "\n",
      "    Body Sex        Group Survived Home country  \n",
      "0    NaN   F  First Class     True          NaN  \n",
      "1  135MB   M  First Class    False          NaN  \n",
      "2  294MB   M  First Class    False          NaN  \n",
      "3    NaN   F  First Class     True          NaN  \n",
      "4    NaN   F  First Class    False          NaN  \n",
      "Empty DataFrame\n",
      "Columns: [Name, Age, Hometown, Boarded, Position, Lifeboat, Body, Sex, Group, Survived]\n",
      "Index: []\n",
      "Empty DataFrame\n",
      "Columns: [Name, Age, Hometown, Boarded, Destination, Lifeboat, Body, Sex, Group, Survived, Home country]\n",
      "Index: []\n"
     ]
    }
   ],
   "source": [
    "df_crew = pd.DataFrame(columns=[\"Name\", \"Age\", \"Hometown\", \"Boarded\", \"Position\", \"Lifeboat\", \"Body\", \"Sex\", \"Group\"])\n",
    "df_pass = pd.DataFrame(columns=[\"Name\", \"Age\", \"Hometown\", \"Boarded\", \"Destination\", \"Lifeboat\", \"Body\", \"Sex\", \"Group\"])\n",
    "\n",
    "for group, tables in crew_groups.items():\n",
    "    df_crew = df_crew.append(tables[1].merge(right = df_crew_survived, on = \"Name\").apply(lambda row : complete_df_item(row, group),axis=1))\n",
    "    \n",
    "for group, tables in pass_groups.items():\n",
    "    tables[1] = tables[1].rename(columns={\"age\": \"Age\"}) # preserve different age column titles\n",
    "    df_pass = df_pass.append(tables[1].merge(right = df_pass_survived, on = \"Name\").apply(lambda row : complete_df_item(row, group),axis=1))\n",
    "\n",
    "# drop unnecessary/redundant columns\n",
    "df_crew = df_crew.drop([\"Class\"], axis=1)\n",
    "df_pass = df_pass.loc[:, ~df_pass.columns.str.contains('^Unnamed')]\n",
    "\n",
    "print(df_crew.head())\n",
    "print(df_pass.head())\n",
    "print(df_crew[df_crew['Sex'] == 'U'])\n",
    "print(df_pass[df_pass['Sex'] == 'U'])"
   ]
  },
  {
   "cell_type": "markdown",
   "id": "cba867ec-5ce8-4557-9d9e-30979dd736c9",
   "metadata": {},
   "source": [
    "# Plots\n",
    "Some code pieces may be duplicated. They key priority was making things easily readable in step-by-step mode."
   ]
  },
  {
   "cell_type": "markdown",
   "id": "4ce52641-a9e7-486e-8f73-58a4d568ddba",
   "metadata": {},
   "source": [
    "## Survival Statistics (Crew & Passangers)"
   ]
  },
  {
   "cell_type": "code",
   "execution_count": 744,
   "id": "d013ae74-aa27-4df3-a0c3-d3b2bf560df5",
   "metadata": {},
   "outputs": [
    {
     "name": "stdout",
     "output_type": "stream",
     "text": [
      "  Survived  Type\n",
      "0    False  Crew\n",
      "1    False  Crew\n",
      "2    False  Crew\n",
      "3     True  Crew\n",
      "4     True  Crew\n"
     ]
    }
   ],
   "source": [
    "df_crew_summary = df_crew[['Survived']]\n",
    "df_crew_summary = df_crew_summary.assign(Type='Crew')\n",
    "df_pass_summary = df_pass[['Survived']]\n",
    "df_pass_summary = df_pass_summary.assign(Type='Passengers')\n",
    "df_all = pd.concat([df_crew_summary, df_pass_summary], axis=0)\n",
    "print(df_all.head())"
   ]
  },
  {
   "cell_type": "code",
   "execution_count": 745,
   "id": "bd755578-5b9c-47b7-867b-6b4ede801350",
   "metadata": {},
   "outputs": [],
   "source": [
    "def ss_apply_labels(patches, stat):\n",
    "    for i, rect in enumerate(patches):\n",
    "        height = rect.get_height()\n",
    "        ss_ax.text(\n",
    "            rect.get_x() + rect.get_width() / 2, 20, stat[i], ha=\"center\", va=\"bottom\", color=\"white\"\n",
    "        )"
   ]
  },
  {
   "cell_type": "code",
   "execution_count": 788,
   "id": "c06e8962-bb5e-4ac9-a04f-73a5e56a9308",
   "metadata": {},
   "outputs": [
    {
     "name": "stdout",
     "output_type": "stream",
     "text": [
      "['705 (77%)', '802 (62%)']\n",
      "['214 (23%)', '492 (38%)']\n"
     ]
    },
    {
     "data": {
      "image/png": "[encoded data removed]",
      "text/plain": [
       "<Figure size 432x288 with 1 Axes>"
      ]
     },
     "metadata": {},
     "output_type": "display_data"
    }
   ],
   "source": [
    "ss_ax = sns.countplot(data=df_all, x='Type', hue='Survived', palette=sns.color_palette(palette))\n",
    "ss_ax.set_xlabel(\"\")\n",
    "ss_ax.set_ylabel(\"Count\")\n",
    "ss_ax.set(title='Survival Statistics (Crew & Passangers)')\n",
    "\n",
    "crew_pct = len(df_crew_summary) / 100\n",
    "crew_abs_perished = len(df_crew_summary[df_crew_summary['Survived'] == False])\n",
    "crew_abs_survived = len(df_crew_summary[df_crew_summary['Survived'] == True])\n",
    "pass_pct = len(df_pass_summary) / 100\n",
    "pass_abs_perished = len(df_pass_summary[df_pass_summary['Survived'] == False])\n",
    "pass_abs_survived = len(df_pass_summary[df_pass_summary['Survived'] == True])\n",
    "stat_perished = [str(crew_abs_perished) + \" (\" + str(round(crew_abs_perished / crew_pct)) + \"%)\",\n",
    "                 str(pass_abs_perished) + \" (\" + str(round(pass_abs_perished / pass_pct)) + \"%)\"]\n",
    "stat_survived = [str(crew_abs_survived) + \" (\" + str(round(crew_abs_survived / crew_pct)) + \"%)\",\n",
    "                str(pass_abs_survived) + \" (\" + str(round(pass_abs_survived / pass_pct)) + \"%)\"]\n",
    "\n",
    "print(stat_perished)\n",
    "print(stat_survived)\n",
    "\n",
    "patch_perished = ss_ax.patches[:len(ss_ax.patches)//2]\n",
    "patch_survived = ss_ax.patches[len(ss_ax.patches)//2:]\n",
    "\n",
    "# apply labels with slight alignments\n",
    "ss_apply_labels(patch_perished, stat_perished)\n",
    "ss_apply_labels(patch_survived, stat_survived)\n",
    "\n",
    "ss_ax.get_figure().savefig('ss.png', dpi=500, bbox_inches='tight')"
   ]
  },
  {
   "cell_type": "markdown",
   "id": "2a69e3dd-16e7-4154-b304-1d86cc182c71",
   "metadata": {},
   "source": [
    "## Crew Survival Statistics (Per Team)"
   ]
  },
  {
   "cell_type": "code",
   "execution_count": 789,
   "id": "2eb11391-cd10-4ff5-b352-c3d6f43685bc",
   "metadata": {},
   "outputs": [
    {
     "name": "stderr",
     "output_type": "stream",
     "text": [
      "posx and posy should be finite values\n",
      "posx and posy should be finite values\n",
      "posx and posy should be finite values\n",
      "posx and posy should be finite values\n",
      "posx and posy should be finite values\n",
      "posx and posy should be finite values\n",
      "posx and posy should be finite values\n",
      "posx and posy should be finite values\n",
      "posx and posy should be finite values\n",
      "posx and posy should be finite values\n",
      "posx and posy should be finite values\n",
      "posx and posy should be finite values\n"
     ]
    },
    {
     "data": {
      "image/png": "[encoded data removed]",
      "text/plain": [
       "<Figure size 432x288 with 2 Axes>"
      ]
     },
     "metadata": {},
     "output_type": "display_data"
    }
   ],
   "source": [
    "break_window = [100, 200]\n",
    "\n",
    "def css_apply_labels(patches, stat, shift):\n",
    "    for i, rect in enumerate(patches):\n",
    "        height = rect.get_height()\n",
    "        if rect.get_width() < break_window[0]:\n",
    "            css_ax1.text(\n",
    "                rect.get_width() + 2, i + shift, stat[i], ha=\"left\", va=\"bottom\"\n",
    "            )\n",
    "        else:\n",
    "            css_ax2.text(\n",
    "                rect.get_width() + 2, i + shift, stat[i], ha=\"left\", va=\"bottom\"\n",
    "            )    \n",
    "\n",
    "stat_perished = []\n",
    "stat_survived = []\n",
    "        \n",
    "for g in crew_groups.keys():\n",
    "    pct = len(df_crew[df_crew['Group'] == g]) / 100\n",
    "    abs_perished = len(df_crew[(df_crew['Survived'] == False) & (df_crew['Group'] == g)])\n",
    "    abs_survived = len(df_crew[(df_crew['Survived'] == True) & (df_crew['Group'] == g)])\n",
    "    \n",
    "    stat_perished.append(str(abs_perished) + \" (\" + str(round(abs_perished / pct)) + \"%)\")\n",
    "    stat_survived.append(str(abs_survived) + \" (\" + str(round(abs_survived / pct)) + \"%)\")\n",
    "\n",
    "fig, (css_ax1, css_ax2) = plt.subplots(1, 2, sharey=True)    \n",
    "fig.subplots_adjust(wspace=0.0)\n",
    "\n",
    "css_ax1 = sns.countplot(data=df_crew, y='Group', hue='Survived', ax=css_ax1, palette=sns.color_palette(palette))\n",
    "css_ax2 = sns.countplot(data=df_crew, y='Group', hue='Survived', ax=css_ax2, palette=sns.color_palette(palette))\n",
    "css_ax1.set_xlim(0, break_window[0]) # most of the data\n",
    "css_ax2.set_xlim(break_window[1], 500) # outliers only\n",
    "css_ax2.get_yaxis().set_visible(False)\n",
    "css_ax1.get_legend().remove()\n",
    "\n",
    "css_ax1.set_xlabel(\"\")\n",
    "css_ax1.set_ylabel(\"Team\")\n",
    "css_ax2.set_ylabel(\"\")\n",
    "css_ax2.set_xlabel(\"\")\n",
    "fig.text(0.6,0.00, \"Count\", ha=\"center\", va=\"center\")\n",
    "fig.suptitle('Crew Survival Statistics (Per Team)', x=0.6, y=0.95, ha=\"center\")\n",
    "\n",
    "patch_perished = css_ax1.patches[:len(ax1.patches)//2]\n",
    "patch_survived = css_ax1.patches[len(ax1.patches)//2:]\n",
    "\n",
    "# apply labels with slight alignments\n",
    "css_apply_labels(patch_perished, stat_perished, 0.05)\n",
    "css_apply_labels(patch_survived, stat_survived, 0.45)\n",
    "\n",
    "plt.tight_layout()\n",
    "fig.savefig('css.png', dpi=500, bbox_inches='tight')\n",
    "plt.show()"
   ]
  },
  {
   "cell_type": "markdown",
   "id": "b106f680-14cc-40ae-9116-a1dfb78e1987",
   "metadata": {},
   "source": [
    "## Crew Gender Statistics (Per Team)\n",
    "\n",
    "For those who are wondering why only two genders are used: there are only two genders we can extract from the dataset :("
   ]
  },
  {
   "cell_type": "code",
   "execution_count": 797,
   "id": "df4ef86c-7fec-416c-9bb4-83f061c7e671",
   "metadata": {},
   "outputs": [
    {
     "name": "stderr",
     "output_type": "stream",
     "text": [
      "posx and posy should be finite values\n",
      "posx and posy should be finite values\n",
      "posx and posy should be finite values\n",
      "posx and posy should be finite values\n",
      "posx and posy should be finite values\n",
      "posx and posy should be finite values\n"
     ]
    },
    {
     "name": "stdout",
     "output_type": "stream",
     "text": [
      "[8, 58, 332, 410, 66, 5, 9, 8]\n",
      "[0, 0, 0, 21, 2, 0, 0, 0]\n"
     ]
    },
    {
     "name": "stderr",
     "output_type": "stream",
     "text": [
      "posx and posy should be finite values\n",
      "posx and posy should be finite values\n",
      "posx and posy should be finite values\n",
      "posx and posy should be finite values\n",
      "posx and posy should be finite values\n",
      "posx and posy should be finite values\n",
      "posx and posy should be finite values\n",
      "posx and posy should be finite values\n",
      "posx and posy should be finite values\n",
      "posx and posy should be finite values\n",
      "posx and posy should be finite values\n",
      "posx and posy should be finite values\n",
      "posx and posy should be finite values\n",
      "posx and posy should be finite values\n",
      "posx and posy should be finite values\n",
      "posx and posy should be finite values\n",
      "posx and posy should be finite values\n",
      "posx and posy should be finite values\n"
     ]
    },
    {
     "data": {
      "image/png": "[encoded data removed]",
      "text/plain": [
       "<Figure size 432x288 with 1 Axes>"
      ]
     },
     "metadata": {},
     "output_type": "display_data"
    }
   ],
   "source": [
    "def cgs_apply_labels(patches, stat, shift):\n",
    "    for i, rect in enumerate(patches):\n",
    "        height = rect.get_height()\n",
    "        cgs_ax.text(\n",
    "            rect.get_width() + 2, i + shift, stat[i], ha=\"left\", va=\"bottom\"\n",
    "        ) \n",
    "            \n",
    "\n",
    "df_crew_sex_summary = df_crew[['Group', 'Sex']]\n",
    "cgs_ax = sns.countplot(data=df_crew_sex_summary, y='Group', hue='Sex', palette=sns.color_palette(palette))\n",
    "cgs_ax.set_ylabel(\"Team\")\n",
    "cgs_ax.set_xlabel(\"Count\")\n",
    "cgs_ax.set_xlim(0, 500)\n",
    "cgs_ax.set(title='Crew Gender Statistics')\n",
    "\n",
    "stat_male = list(df_crew_sex_summary[df_crew_sex_summary.Sex == \"M\"].groupby(['Group'], sort=False).count()[\"Sex\"].values)\n",
    "stat_female = list(df_crew_sex_summary[df_crew_sex_summary.Sex == \"F\"].groupby(['Group'], sort=False).count()[\"Sex\"].values)\n",
    "stat_female = [0, 0, 0] + stat_female + [0, 0, 0]\n",
    "print(stat_male)\n",
    "print(stat_female)\n",
    "\n",
    "patch_male = cgs_ax.patches[:len(cgs_ax.patches)//2]\n",
    "patch_female = cgs_ax.patches[len(cgs_ax.patches)//2:]\n",
    "\n",
    "cgs_apply_labels(patch_male, stat_male, 0.05)\n",
    "cgs_apply_labels(patch_female, stat_female, 0.43)\n",
    "\n",
    "plt.legend(loc='upper right')\n",
    "\n",
    "cgs_ax.get_figure().savefig('cgs.png', dpi=500, bbox_inches='tight')"
   ]
  },
  {
   "cell_type": "code",
   "execution_count": null,
   "id": "449c9d02-9042-46e0-b737-d0111e995ad5",
   "metadata": {},
   "outputs": [],
   "source": []
  }
 ],
 "metadata": {
  "kernelspec": {
   "display_name": "Python 3",
   "language": "python",
   "name": "python3"
  },
  "language_info": {
   "codemirror_mode": {
    "name": "ipython",
    "version": 3
   },
   "file_extension": ".py",
   "mimetype": "text/x-python",
   "name": "python",
   "nbconvert_exporter": "python",
   "pygments_lexer": "ipython3",
   "version": "3.8.8"
  }
 },
 "nbformat": 4,
 "nbformat_minor": 5
}
